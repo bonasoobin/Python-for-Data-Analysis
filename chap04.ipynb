{
 "cells": [
  {
   "cell_type": "markdown",
   "id": "4181f7fa-8226-439d-873d-8c3d59549ac0",
   "metadata": {},
   "source": [
    "# 챕터4 NumPy 기본: 배열과 벡터 연산"
   ]
  },
  {
   "cell_type": "code",
   "execution_count": 75,
   "id": "af84a993-df2e-4752-9bf3-fe70c17cf1d6",
   "metadata": {},
   "outputs": [],
   "source": [
    "import numpy as np\n",
    "\n",
    "my_arr = np.arange(1000000)\n",
    "my_list = list(range(1000000))"
   ]
  },
  {
   "cell_type": "code",
   "execution_count": 76,
   "id": "b5657992-e5b5-4dd7-aa9c-01d7d0543a5c",
   "metadata": {},
   "outputs": [
    {
     "name": "stdout",
     "output_type": "stream",
     "text": [
      "CPU times: total: 46.9 ms\n",
      "Wall time: 50.1 ms\n"
     ]
    }
   ],
   "source": [
    "%time for _ in range(10) : my_arr2 = my_arr * 2"
   ]
  },
  {
   "cell_type": "code",
   "execution_count": 78,
   "id": "ff13b2b4-e8a5-49e8-9a0f-de2f2b1da1e8",
   "metadata": {},
   "outputs": [
    {
     "name": "stdout",
     "output_type": "stream",
     "text": [
      "CPU times: total: 2.45 s\n",
      "Wall time: 2.52 s\n"
     ]
    }
   ],
   "source": [
    "%time for _ in range(10) : my_list2 = [x * 2 for x in my_list]"
   ]
  },
  {
   "cell_type": "markdown",
   "id": "4567fde8-77c2-4f49-bdcf-53c31dfe1e68",
   "metadata": {},
   "source": [
    "NumPy를 이용한 코드가 순수 파이썬으로 작성한 코드보다 10배 ~ 100배 빠르고 메모리도 더 적게 사용함"
   ]
  },
  {
   "cell_type": "markdown",
   "id": "543da0cc-961e-453a-89a4-8d1b9f6193b8",
   "metadata": {},
   "source": [
    "## 4.1 NumPy ndarray : 다차원 배열 객체"
   ]
  },
  {
   "cell_type": "code",
   "execution_count": 3,
   "id": "a53396c6-d26c-4528-a8dc-026e308f3786",
   "metadata": {},
   "outputs": [
    {
     "data": {
      "text/plain": [
       "array([[-0.02180247,  0.40194495, -1.19440817],\n",
       "       [-0.25405425, -1.45856023, -0.42923843]])"
      ]
     },
     "execution_count": 3,
     "metadata": {},
     "output_type": "execute_result"
    }
   ],
   "source": [
    "import numpy as np\n",
    "\n",
    "# 임의의 값 생성\n",
    "data = np.random.randn(2,3)\n",
    "\n",
    "data"
   ]
  },
  {
   "cell_type": "code",
   "execution_count": 4,
   "id": "23516085-2d6c-40d6-812d-f97e3880e7ad",
   "metadata": {},
   "outputs": [
    {
     "data": {
      "text/plain": [
       "array([[ -0.2180247 ,   4.01944953, -11.94408168],\n",
       "       [ -2.54054245, -14.5856023 ,  -4.2923843 ]])"
      ]
     },
     "execution_count": 4,
     "metadata": {},
     "output_type": "execute_result"
    }
   ],
   "source": [
    "data * 10"
   ]
  },
  {
   "cell_type": "code",
   "execution_count": 5,
   "id": "e82e6210-554d-44dd-a2a0-59108876fb3d",
   "metadata": {},
   "outputs": [
    {
     "data": {
      "text/plain": [
       "array([[-0.04360494,  0.80388991, -2.38881634],\n",
       "       [-0.50810849, -2.91712046, -0.85847686]])"
      ]
     },
     "execution_count": 5,
     "metadata": {},
     "output_type": "execute_result"
    }
   ],
   "source": [
    "data + data"
   ]
  },
  {
   "cell_type": "code",
   "execution_count": null,
   "id": "bbb6507d-2bbb-4fab-a8b5-d659e6b5d102",
   "metadata": {},
   "outputs": [],
   "source": []
  },
  {
   "cell_type": "code",
   "execution_count": 6,
   "id": "f948002a-3775-465c-b36e-5551f73aa1a9",
   "metadata": {},
   "outputs": [
    {
     "name": "stdout",
     "output_type": "stream",
     "text": [
      "(2, 3)\n",
      "float64\n"
     ]
    }
   ],
   "source": [
    "print(data.shape)\n",
    "print(data.dtype)"
   ]
  },
  {
   "cell_type": "code",
   "execution_count": null,
   "id": "962e0181-73ef-4042-87ac-e935f737b5ce",
   "metadata": {},
   "outputs": [],
   "source": []
  },
  {
   "cell_type": "markdown",
   "id": "517dedc7-090f-4aff-a759-c492e47022fd",
   "metadata": {},
   "source": [
    "### 4.1.1 ndarray 생성하기"
   ]
  },
  {
   "cell_type": "code",
   "execution_count": 7,
   "id": "a827ae78-29ec-4fda-8274-0efab0aa9aca",
   "metadata": {},
   "outputs": [
    {
     "data": {
      "text/plain": [
       "array([6. , 7.5, 8. , 0. , 1. ])"
      ]
     },
     "execution_count": 7,
     "metadata": {},
     "output_type": "execute_result"
    }
   ],
   "source": [
    "data1 = [6, 7.5, 8, 0, 1]\n",
    "\n",
    "arr1 = np.array(data1)\n",
    "\n",
    "arr1"
   ]
  },
  {
   "cell_type": "code",
   "execution_count": null,
   "id": "180f2e8c-b17c-4854-aa2a-8736bf4cc6cd",
   "metadata": {},
   "outputs": [],
   "source": []
  },
  {
   "cell_type": "code",
   "execution_count": 8,
   "id": "4ad82d0f-dbbf-4dd5-8fce-f105a3701ce5",
   "metadata": {},
   "outputs": [
    {
     "data": {
      "text/plain": [
       "array([[1, 2, 3, 4],\n",
       "       [5, 6, 7, 8]])"
      ]
     },
     "execution_count": 8,
     "metadata": {},
     "output_type": "execute_result"
    }
   ],
   "source": [
    "# 같은 길이를 가지는 리스트를 내포하고 있는 순차데이터 → 다차원 배열로 변환\n",
    "data2 = [[1,2,3,4],[5,6,7,8]]\n",
    "arr2 = np.array(data2)\n",
    "arr2"
   ]
  },
  {
   "cell_type": "code",
   "execution_count": 9,
   "id": "0e52c279-dced-490f-8a62-37b8ecae6142",
   "metadata": {},
   "outputs": [
    {
     "name": "stdout",
     "output_type": "stream",
     "text": [
      "2\n",
      "(2, 4)\n"
     ]
    }
   ],
   "source": [
    "# data2 : 리스트를 담고있는 리스트이므로\n",
    "# arr2는 형태를 추론하여 2차원 형태로 생성됨\n",
    "print(arr2.ndim)\n",
    "print(arr2.shape)"
   ]
  },
  {
   "cell_type": "code",
   "execution_count": 10,
   "id": "e96820dc-8382-4e02-9623-ba01560e7c4d",
   "metadata": {},
   "outputs": [
    {
     "name": "stdout",
     "output_type": "stream",
     "text": [
      "float64\n",
      "int32\n"
     ]
    }
   ],
   "source": [
    "# 명시적으로 지정하지 않는 한 np.array는 생성될 때 적절한 자료형 추론\n",
    "print(arr1.dtype)\n",
    "print(arr2.dtype)"
   ]
  },
  {
   "cell_type": "code",
   "execution_count": 11,
   "id": "8e90ee40-b633-4fca-aeb6-b2be076af985",
   "metadata": {},
   "outputs": [
    {
     "name": "stdout",
     "output_type": "stream",
     "text": [
      "[0. 0. 0. 0. 0. 0. 0. 0. 0. 0.]\n",
      "\n",
      "[[0. 0. 0. 0. 0. 0.]\n",
      " [0. 0. 0. 0. 0. 0.]\n",
      " [0. 0. 0. 0. 0. 0.]]\n",
      "\n",
      "[[[0. 0.]\n",
      "  [0. 0.]\n",
      "  [0. 0.]]\n",
      "\n",
      " [[0. 0.]\n",
      "  [0. 0.]\n",
      "  [0. 0.]]]\n"
     ]
    }
   ],
   "source": [
    "# zeros나 ones는 주어진 길이나 모양에 각각 0과 1이 들어있는 배열 생성\n",
    "print(np.zeros(10))\n",
    "print('')\n",
    "print(np.zeros((3,6)))\n",
    "print('')\n",
    "print(np.zeros((2,3,2)))"
   ]
  },
  {
   "cell_type": "code",
   "execution_count": 12,
   "id": "3dac5eeb-3963-46f2-a458-3f0c0a9761e9",
   "metadata": {},
   "outputs": [
    {
     "data": {
      "text/plain": [
       "array([ 0,  1,  2,  3,  4,  5,  6,  7,  8,  9, 10, 11, 12, 13, 14])"
      ]
     },
     "execution_count": 12,
     "metadata": {},
     "output_type": "execute_result"
    }
   ],
   "source": [
    "np.arange(15)"
   ]
  },
  {
   "cell_type": "markdown",
   "id": "f28b14c5-24bd-4546-a83e-46110f48b67e",
   "metadata": {},
   "source": [
    "### 4.1.2 ndarray의 dtype"
   ]
  },
  {
   "cell_type": "markdown",
   "id": "b4634006-dc41-4847-8026-870d7367aec0",
   "metadata": {},
   "source": [
    "dtype : nparray가 메모리에 있는 특정 데이터를 해석하기 위해 필요한 정보를 담고있는 특수한 객체"
   ]
  },
  {
   "cell_type": "code",
   "execution_count": 13,
   "id": "4ceedf38-dd0b-4914-aad1-eaee0a25e5a0",
   "metadata": {},
   "outputs": [
    {
     "name": "stdout",
     "output_type": "stream",
     "text": [
      "float64\n",
      "int32\n"
     ]
    }
   ],
   "source": [
    "arr1 = np.array([1,2,3], dtype=np.float64)\n",
    "arr2 = np.array([1,2,3], dtype=np.int32)\n",
    "\n",
    "print(arr1.dtype)\n",
    "print(arr2.dtype)                "
   ]
  },
  {
   "cell_type": "code",
   "execution_count": 14,
   "id": "3f810f18-472f-45e3-a18c-a85a4714117b",
   "metadata": {},
   "outputs": [
    {
     "name": "stdout",
     "output_type": "stream",
     "text": [
      "int32\n",
      "float64\n"
     ]
    }
   ],
   "source": [
    "# ndarray의 astype 메서드를 사용해 배열의 dtype을 다른 형으로 명시적으로 변환\n",
    "arr = np.array([1,2,3,4,5])\n",
    "print(arr.dtype)\n",
    "\n",
    "float_arr = arr.astype(np.float64)\n",
    "print(float_arr.dtype)"
   ]
  },
  {
   "cell_type": "code",
   "execution_count": 15,
   "id": "b65267ef-ded5-44d5-bc09-251e780a6dbd",
   "metadata": {},
   "outputs": [
    {
     "name": "stdout",
     "output_type": "stream",
     "text": [
      "[ 3.7 -1.2 -2.6  0.5 12.9 10.1]\n",
      "[ 3 -1 -2  0 12 10]\n"
     ]
    }
   ],
   "source": [
    "# 부동 소수점수를 정수형 dtype으로 변환하면 소수점 아래는 버려짐\n",
    "arr = np.array([3.7, -1.2, -2.6, 0.5, 12.9, 10.1])\n",
    "print(arr)\n",
    "print(arr.astype(np.int32))"
   ]
  },
  {
   "cell_type": "code",
   "execution_count": 16,
   "id": "18baa28c-030c-4707-a7ae-10639d86f229",
   "metadata": {},
   "outputs": [
    {
     "data": {
      "text/plain": [
       "array([ 1.25, -9.6 , 42.  ])"
      ]
     },
     "execution_count": 16,
     "metadata": {},
     "output_type": "execute_result"
    }
   ],
   "source": [
    "# 숫자 형식의 문자열을 담고 있는 배열이 있다면 astype을 사용하여 숫자로 변환 가능\n",
    "numeric_strings = np.array(['1.25', '-9.6', '42'], dtype=np.string_)\n",
    "numeric_strings.astype(float)"
   ]
  },
  {
   "cell_type": "code",
   "execution_count": 17,
   "id": "d9b4117d-3ca7-4366-81af-586f95b7abec",
   "metadata": {},
   "outputs": [
    {
     "data": {
      "text/plain": [
       "array([0., 1., 2., 3., 4., 5., 6., 7., 8., 9.])"
      ]
     },
     "execution_count": 17,
     "metadata": {},
     "output_type": "execute_result"
    }
   ],
   "source": [
    "# 다른 배열의 dtype 속성을 이용하는 것도 가능\n",
    "int_array = np.arange(10)\n",
    "calibers = np.array([.22, .270, .357, .380, .44, .50], dtype = np.float64)\n",
    "int_array.astype(calibers.dtype)"
   ]
  },
  {
   "cell_type": "code",
   "execution_count": 18,
   "id": "69eb4bc0-bdca-416d-adc0-4eef6e008180",
   "metadata": {},
   "outputs": [
    {
     "data": {
      "text/plain": [
       "array([         0, 1075314688,          0, 1075707904,          0,\n",
       "       1075838976,          0, 1072693248], dtype=uint32)"
      ]
     },
     "execution_count": 18,
     "metadata": {},
     "output_type": "execute_result"
    }
   ],
   "source": [
    "# dtype으로 사용할 수 있는 축약코드도 존재\n",
    "empty_uint32 = np.empty(8, dtype='u4')\n",
    "empty_uint32"
   ]
  },
  {
   "cell_type": "code",
   "execution_count": null,
   "id": "434b8d86-af12-459e-8b63-426e8028cc6c",
   "metadata": {},
   "outputs": [],
   "source": []
  },
  {
   "cell_type": "markdown",
   "id": "79363456-055e-4eb9-84dd-35ddc361974f",
   "metadata": {},
   "source": [
    "### 4.1.3 NumPy 배열의 산술 연산"
   ]
  },
  {
   "cell_type": "code",
   "execution_count": 19,
   "id": "4eaec10a-dd10-46de-8d49-9d6df3b12d2d",
   "metadata": {},
   "outputs": [
    {
     "name": "stdout",
     "output_type": "stream",
     "text": [
      "[[1. 2. 3.]\n",
      " [4. 5. 6.]]\n",
      "[[ 1.  4.  9.]\n",
      " [16. 25. 36.]]\n",
      "[[0. 0. 0.]\n",
      " [0. 0. 0.]]\n"
     ]
    }
   ],
   "source": [
    "arr = np.array([[1.,2,3.],[4.,5.,6.]])\n",
    "print(arr)\n",
    "print(arr*arr)\n",
    "print(arr-arr)"
   ]
  },
  {
   "cell_type": "code",
   "execution_count": 20,
   "id": "f79d2daa-6cbf-4569-ac1b-cdccd8e1237d",
   "metadata": {},
   "outputs": [
    {
     "name": "stdout",
     "output_type": "stream",
     "text": [
      "[[1.         0.5        0.33333333]\n",
      " [0.25       0.2        0.16666667]]\n",
      "[[1.         1.41421356 1.73205081]\n",
      " [2.         2.23606798 2.44948974]]\n"
     ]
    }
   ],
   "source": [
    "# 스칼라 인자가 포함된 산술 연산의 경우 배열 내의 모든 원소에 스칼라 인자 적용됨\n",
    "print(1/arr)\n",
    "print(arr**0.5)"
   ]
  },
  {
   "cell_type": "code",
   "execution_count": 21,
   "id": "db5f7f4e-6d63-44fa-99c5-e42dcb299eba",
   "metadata": {},
   "outputs": [
    {
     "name": "stdout",
     "output_type": "stream",
     "text": [
      "[[ 0.  4.  1.]\n",
      " [ 7.  2. 12.]]\n",
      "[[False  True False]\n",
      " [ True False  True]]\n"
     ]
    }
   ],
   "source": [
    "# 같은 크기를 배열 간의 비교 연산은 불리언 배열을 반환\n",
    "arr2 = np.array([[0.,4.,1.], [7.,2.,12.]])\n",
    "print(arr2)\n",
    "print(arr2>arr)"
   ]
  },
  {
   "cell_type": "markdown",
   "id": "30837129-75cf-441c-8dc6-9d796212438a",
   "metadata": {},
   "source": [
    "### 4.1.4 색인과 슬라이싱 기초"
   ]
  },
  {
   "cell_type": "code",
   "execution_count": 24,
   "id": "dfe3a3c7-5770-4812-a0fd-4867ba5640d1",
   "metadata": {},
   "outputs": [
    {
     "name": "stdout",
     "output_type": "stream",
     "text": [
      "[0 1 2 3 4 5 6 7 8 9]\n",
      "5\n",
      "[5 6 7]\n",
      "[ 0  1  2  3  4 12 12 12  8  9]\n"
     ]
    }
   ],
   "source": [
    "# 데이터의 부분집합이나 개별 요소를 선택하기\n",
    "arr = np.arange(10)\n",
    "\n",
    "print(arr)\n",
    "print(arr[5])\n",
    "print(arr[5:8])\n",
    "arr[5:8] = 12\n",
    "print(arr)"
   ]
  },
  {
   "cell_type": "code",
   "execution_count": 25,
   "id": "a3400a5f-a1b8-4ad9-bab0-251e39bd54bf",
   "metadata": {},
   "outputs": [
    {
     "data": {
      "text/plain": [
       "array([12, 12, 12])"
      ]
     },
     "execution_count": 25,
     "metadata": {},
     "output_type": "execute_result"
    }
   ],
   "source": [
    "# arr[5:8]=12 처럼 배열 조각에 스칼라값을 대입하면 12가 선택 영역 전파로 브로드캐스팅됨\n",
    "# 리스트와의 차이점 : 배열 조각은 원본 배열의 뷰(데이터는 복사되지 않고 뷰에 대한 변경은 그대로 원본 배열에 반영)\n",
    "arr_slice = arr[5:8]\n",
    "arr_slice"
   ]
  },
  {
   "cell_type": "code",
   "execution_count": 26,
   "id": "83d3a36b-6c03-4c18-b383-d44fe20e6952",
   "metadata": {},
   "outputs": [
    {
     "data": {
      "text/plain": [
       "array([    0,     1,     2,     3,     4,    12, 12345,    12,     8,\n",
       "           9])"
      ]
     },
     "execution_count": 26,
     "metadata": {},
     "output_type": "execute_result"
    }
   ],
   "source": [
    "# arr_slice의 값 변경하면 원래 배열인 arr의 값도 바뀜\n",
    "arr_slice[1] = 12345\n",
    "arr"
   ]
  },
  {
   "cell_type": "code",
   "execution_count": 27,
   "id": "125bc028-1c09-413e-bedc-7f10a65d326b",
   "metadata": {},
   "outputs": [
    {
     "data": {
      "text/plain": [
       "array([ 0,  1,  2,  3,  4, 64, 64, 64,  8,  9])"
      ]
     },
     "execution_count": 27,
     "metadata": {},
     "output_type": "execute_result"
    }
   ],
   "source": [
    "# 단순히 [:]로 슬라이스를 하면 배열의 모든 값 할당\n",
    "arr_slice[:] = 64\n",
    "arr"
   ]
  },
  {
   "cell_type": "markdown",
   "id": "289ecd19-b253-4383-bfaf-7ccf43bfaa87",
   "metadata": {},
   "source": [
    "NumPy는 데이터가 복사되지 않음\n",
    "대용량의 데이터 처리를 염두에 두고 설계되었기 때문에 데이터 복사를 남발한다면 성능과 메모리 문제에 마주칠 것"
   ]
  },
  {
   "cell_type": "code",
   "execution_count": 28,
   "id": "0ed79051-fde7-477c-b4e5-1483ae88d800",
   "metadata": {},
   "outputs": [
    {
     "data": {
      "text/plain": [
       "array([7, 8, 9])"
      ]
     },
     "execution_count": 28,
     "metadata": {},
     "output_type": "execute_result"
    }
   ],
   "source": [
    "# 다차원 배열을 다룰 땐 좀 더 많은 옵션이 있음\n",
    "# 2차원 배열에서 각 색인에 해당하는 요소를 스칼라값이 아닌 1차원 배열\n",
    "arr2d = np.array([[1,2,3],[4,5,6],[7,8,9]])\n",
    "\n",
    "arr2d[2]"
   ]
  },
  {
   "cell_type": "code",
   "execution_count": 29,
   "id": "5bce9005-cb0b-4a21-bfda-d9bab8b7c5e2",
   "metadata": {},
   "outputs": [
    {
     "name": "stdout",
     "output_type": "stream",
     "text": [
      "3\n",
      "3\n"
     ]
    }
   ],
   "source": [
    "# 개별 요소에 재귀적으로 접근하기 귀찮을때, 콤마로 구분된 색인 리스트 넘기기\n",
    "print(arr2d[0][2])\n",
    "print(arr2d[0,2])"
   ]
  },
  {
   "cell_type": "code",
   "execution_count": 32,
   "id": "9d9b8094-80a1-48af-bfb8-5916560afa9a",
   "metadata": {},
   "outputs": [
    {
     "data": {
      "text/plain": [
       "array([[[ 1,  2,  3],\n",
       "        [ 4,  5,  6]],\n",
       "\n",
       "       [[ 7,  8,  9],\n",
       "        [10, 11, 12]]])"
      ]
     },
     "execution_count": 32,
     "metadata": {},
     "output_type": "execute_result"
    }
   ],
   "source": [
    "# 다차원 배열에서 마지막 색인을 생략할 시 반환되는 객체는 상위 차원의 데이터를 포함하고 있는 한 차원 낮은 ndarray가 됨\n",
    "arr3d = np.array([[[1,2,3],[4,5,6]],[[7,8,9],[10,11,12]]])\n",
    "arr3d"
   ]
  },
  {
   "cell_type": "code",
   "execution_count": 33,
   "id": "dd493f4d-bb4c-4697-9e9a-e7b46e36b871",
   "metadata": {},
   "outputs": [
    {
     "data": {
      "text/plain": [
       "array([[1, 2, 3],\n",
       "       [4, 5, 6]])"
      ]
     },
     "execution_count": 33,
     "metadata": {},
     "output_type": "execute_result"
    }
   ],
   "source": [
    "# arr3d[0]은 2x3 크기의 배열\n",
    "arr3d[0]"
   ]
  },
  {
   "cell_type": "code",
   "execution_count": 35,
   "id": "ed397a78-7fa1-4111-85b3-125f6aee65a4",
   "metadata": {},
   "outputs": [
    {
     "name": "stdout",
     "output_type": "stream",
     "text": [
      "[[[42 42 42]\n",
      "  [42 42 42]]\n",
      "\n",
      " [[ 7  8  9]\n",
      "  [10 11 12]]]\n",
      "\n",
      "[[[ 1  2  3]\n",
      "  [ 4  5  6]]\n",
      "\n",
      " [[ 7  8  9]\n",
      "  [10 11 12]]]\n"
     ]
    }
   ],
   "source": [
    "# arr3d[0]에는 스칼라값과 배열 모두 대입할 수 있음\n",
    "old_values = arr3d[0].copy()\n",
    "arr3d[0] = 42\n",
    "print(arr3d)\n",
    "print('')\n",
    "arr3d[0] = old_values\n",
    "print(arr3d)"
   ]
  },
  {
   "cell_type": "code",
   "execution_count": 36,
   "id": "69306d3a-4726-42d2-9351-88029ff17135",
   "metadata": {},
   "outputs": [
    {
     "data": {
      "text/plain": [
       "array([7, 8, 9])"
      ]
     },
     "execution_count": 36,
     "metadata": {},
     "output_type": "execute_result"
    }
   ],
   "source": [
    "# arr3d[1,0]은 (1,0)으로 색인되는 1차원 배열과 그 값을 반환\n",
    "arr3d[1,0]"
   ]
  },
  {
   "cell_type": "code",
   "execution_count": 37,
   "id": "78002e0d-c87a-4c6e-8eb7-8a534389d4c5",
   "metadata": {},
   "outputs": [
    {
     "name": "stdout",
     "output_type": "stream",
     "text": [
      "[[ 7  8  9]\n",
      " [10 11 12]]\n",
      "[7 8 9]\n"
     ]
    }
   ],
   "source": [
    "# 두번에 걸쳐 인덱싱한 결과와 동일\n",
    "x = arr3d[1]\n",
    "print(x)\n",
    "print(x[0])"
   ]
  },
  {
   "cell_type": "code",
   "execution_count": 38,
   "id": "a926fa1a-ca88-46f8-9707-81a20a92a6da",
   "metadata": {},
   "outputs": [
    {
     "name": "stdout",
     "output_type": "stream",
     "text": [
      "[ 0  1  2  3  4 64 64 64  8  9]\n",
      "[ 1  2  3  4 64]\n"
     ]
    }
   ],
   "source": [
    "# 슬라이스로 선택하기\n",
    "print(arr)\n",
    "print(arr[1:6])"
   ]
  },
  {
   "cell_type": "code",
   "execution_count": 40,
   "id": "5dfbb039-5b3d-457f-a4d9-9830d145ee07",
   "metadata": {},
   "outputs": [
    {
     "name": "stdout",
     "output_type": "stream",
     "text": [
      "[[1 2 3]\n",
      " [4 5 6]\n",
      " [7 8 9]]\n",
      "[[1 2 3]\n",
      " [4 5 6]]\n"
     ]
    }
   ],
   "source": [
    "# 2차원 배열 슬라이싱하기\n",
    "print(arr2d)\n",
    "print(arr2d[:2])"
   ]
  },
  {
   "cell_type": "code",
   "execution_count": 41,
   "id": "59d4c3b4-c1d9-44b9-8f48-f00b02fdfe9a",
   "metadata": {},
   "outputs": [
    {
     "name": "stdout",
     "output_type": "stream",
     "text": [
      "[[2 3]\n",
      " [5 6]]\n"
     ]
    }
   ],
   "source": [
    "# 색인을 여러개 넘겨서 다차원 슬라이싱하기\n",
    "print(arr2d[:2,1:])"
   ]
  },
  {
   "cell_type": "code",
   "execution_count": 42,
   "id": "1a45ebef-41c8-436f-99f2-7e1864589251",
   "metadata": {},
   "outputs": [
    {
     "name": "stdout",
     "output_type": "stream",
     "text": [
      "[4 5]\n"
     ]
    }
   ],
   "source": [
    "# 두번째 로우에서 처음 두 컬럼만 선택하고 싶을 때\n",
    "print(arr2d[1,:2])"
   ]
  },
  {
   "cell_type": "code",
   "execution_count": 43,
   "id": "5afb8525-9fab-4fe3-9e8d-54ee8eb84e63",
   "metadata": {},
   "outputs": [
    {
     "data": {
      "text/plain": [
       "array([3, 6])"
      ]
     },
     "execution_count": 43,
     "metadata": {},
     "output_type": "execute_result"
    }
   ],
   "source": [
    "# 처음 두 로우에서 세번째 컬럼만 선택하고 싶을 때\n",
    "arr2d[:2,2]"
   ]
  },
  {
   "cell_type": "code",
   "execution_count": 44,
   "id": "bb30f792-550f-4bfb-b5d2-1f6802909498",
   "metadata": {},
   "outputs": [
    {
     "data": {
      "text/plain": [
       "array([[1],\n",
       "       [4],\n",
       "       [7]])"
      ]
     },
     "execution_count": 44,
     "metadata": {},
     "output_type": "execute_result"
    }
   ],
   "source": [
    "# 전체 축 선택\n",
    "arr2d[:,:1]"
   ]
  },
  {
   "cell_type": "markdown",
   "id": "1529b0e0-ad03-4731-abad-63cdd386d958",
   "metadata": {},
   "source": [
    "### 4.1.5 불리언값으로 선택하기"
   ]
  },
  {
   "cell_type": "code",
   "execution_count": 45,
   "id": "31398696-5be0-4702-b606-bf8d781a400a",
   "metadata": {},
   "outputs": [
    {
     "name": "stdout",
     "output_type": "stream",
     "text": [
      "['Bob' 'Joe' 'Will' 'Bob' 'Will' 'Joe' 'Joe']\n",
      "[[-1.33001577  0.66656008 -0.32116696 -0.60020338]\n",
      " [ 0.96592756 -0.98141798 -0.23156317 -0.46301812]\n",
      " [ 0.86461453  0.50338364 -0.540127    0.46868096]\n",
      " [ 0.79205491 -1.29575086  0.74208997 -0.18452137]\n",
      " [-1.10816655  0.63865398 -0.00168153 -1.20595432]\n",
      " [-0.36230471 -0.4237354   0.49233798 -1.06342025]\n",
      " [ 0.12325274  0.19715852  0.16694706  0.86349858]]\n"
     ]
    }
   ],
   "source": [
    "#중복된 이름이 포함된 배열에서 numpy.random 모듈에 있는 randn함수를 사용해 임의의 표준정규분포 데이터 생성\n",
    "names = np.array(['Bob', 'Joe', 'Will', 'Bob', 'Will', 'Joe', 'Joe'])\n",
    "data = np.random.randn(7,4)\n",
    "print(names)\n",
    "print(data)"
   ]
  },
  {
   "cell_type": "code",
   "execution_count": 46,
   "id": "d2e69bf7-dc13-459a-91fb-9448cf920987",
   "metadata": {},
   "outputs": [
    {
     "data": {
      "text/plain": [
       "array([ True, False, False,  True, False, False, False])"
      ]
     },
     "execution_count": 46,
     "metadata": {},
     "output_type": "execute_result"
    }
   ],
   "source": [
    "names == 'Bob'"
   ]
  },
  {
   "cell_type": "code",
   "execution_count": 47,
   "id": "f979244a-1688-412c-8f07-84aaf20418ff",
   "metadata": {},
   "outputs": [
    {
     "data": {
      "text/plain": [
       "array([[-1.33001577,  0.66656008, -0.32116696, -0.60020338],\n",
       "       [ 0.79205491, -1.29575086,  0.74208997, -0.18452137]])"
      ]
     },
     "execution_count": 47,
     "metadata": {},
     "output_type": "execute_result"
    }
   ],
   "source": [
    "# 불리언 배열을 배열의 색인으로 사용 가능\n",
    "data[names == 'Bob']"
   ]
  },
  {
   "cell_type": "code",
   "execution_count": 48,
   "id": "786422a7-aba9-4942-9b68-14c945717bec",
   "metadata": {},
   "outputs": [
    {
     "name": "stdout",
     "output_type": "stream",
     "text": [
      "[[-0.32116696 -0.60020338]\n",
      " [ 0.74208997 -0.18452137]]\n",
      "[-0.60020338 -0.18452137]\n"
     ]
    }
   ],
   "source": [
    "# names == 'Bob'인 로우에서 2: 컬럼 선택\n",
    "print(data[names == 'Bob', 2:])\n",
    "print(data[names == 'Bob', 3])"
   ]
  },
  {
   "cell_type": "code",
   "execution_count": 50,
   "id": "2705a6f3-df79-4db2-8da4-518117db414a",
   "metadata": {},
   "outputs": [
    {
     "name": "stdout",
     "output_type": "stream",
     "text": [
      "[False  True  True False  True  True  True]\n",
      "[[ 0.96592756 -0.98141798 -0.23156317 -0.46301812]\n",
      " [ 0.86461453  0.50338364 -0.540127    0.46868096]\n",
      " [-1.10816655  0.63865398 -0.00168153 -1.20595432]\n",
      " [-0.36230471 -0.4237354   0.49233798 -1.06342025]\n",
      " [ 0.12325274  0.19715852  0.16694706  0.86349858]]\n"
     ]
    }
   ],
   "source": [
    "# Bob이 아닌 요소들을 선택하기\n",
    "print(names != 'Bob')\n",
    "print(data[~(names == 'Bob')])"
   ]
  },
  {
   "cell_type": "code",
   "execution_count": 57,
   "id": "1942487b-d473-4cea-80ff-014f8fa71132",
   "metadata": {},
   "outputs": [
    {
     "data": {
      "text/plain": [
       "array([-0.36230471, -0.4237354 ,  0.49233798, -1.06342025])"
      ]
     },
     "execution_count": 57,
     "metadata": {},
     "output_type": "execute_result"
    }
   ],
   "source": [
    "# ~ 연산자는 일반적인 조건을 반대로 쓰고싶을 때 사용\n",
    "cond = names == 'Bob'\n",
    "\n",
    "data[~cond]"
   ]
  },
  {
   "cell_type": "code",
   "execution_count": 58,
   "id": "e26f9865-b020-4155-99ba-6f52cd0aa9f6",
   "metadata": {},
   "outputs": [
    {
     "name": "stdout",
     "output_type": "stream",
     "text": [
      "True\n",
      "[[[-1.33001577  0.66656008 -0.32116696 -0.60020338]\n",
      "  [ 0.96592756 -0.98141798 -0.23156317 -0.46301812]\n",
      "  [ 0.86461453  0.50338364 -0.540127    0.46868096]\n",
      "  [ 0.79205491 -1.29575086  0.74208997 -0.18452137]\n",
      "  [-1.10816655  0.63865398 -0.00168153 -1.20595432]\n",
      "  [-0.36230471 -0.4237354   0.49233798 -1.06342025]\n",
      "  [ 0.12325274  0.19715852  0.16694706  0.86349858]]]\n"
     ]
    }
   ],
   "source": [
    "# 3가지 중 2가지 선택하려면 &나 | 같은 논리 연산자 사용\n",
    "mask = (names == 'Bob') | (names == 'Will')\n",
    "print(mask)\n",
    "print(data[mask])"
   ]
  },
  {
   "cell_type": "code",
   "execution_count": 59,
   "id": "36775a90-f4e8-4551-9efd-c2cd1f5e01af",
   "metadata": {},
   "outputs": [
    {
     "name": "stdout",
     "output_type": "stream",
     "text": [
      "[[0.         0.66656008 0.         0.        ]\n",
      " [0.96592756 0.         0.         0.        ]\n",
      " [0.86461453 0.50338364 0.         0.46868096]\n",
      " [0.79205491 0.         0.74208997 0.        ]\n",
      " [0.         0.63865398 0.         0.        ]\n",
      " [0.         0.         0.49233798 0.        ]\n",
      " [0.12325274 0.19715852 0.16694706 0.86349858]]\n"
     ]
    }
   ],
   "source": [
    "# data에 저장된 모든 음수를 0으로 대입할때\n",
    "data[data < 0] = 0\n",
    "print(data)"
   ]
  },
  {
   "cell_type": "code",
   "execution_count": 60,
   "id": "c57fb7ef-c0e0-41c3-89a0-deba0a826cb1",
   "metadata": {},
   "outputs": [
    {
     "name": "stdout",
     "output_type": "stream",
     "text": [
      "[[7. 7. 7. 7.]\n",
      " [7. 7. 7. 7.]\n",
      " [7. 7. 7. 7.]\n",
      " [7. 7. 7. 7.]\n",
      " [7. 7. 7. 7.]\n",
      " [7. 7. 7. 7.]\n",
      " [7. 7. 7. 7.]]\n"
     ]
    }
   ],
   "source": [
    "# 1차원 불리언 배열을 사용해 전체 로우나 컬럼을 선택하기\n",
    "data[names != 'Joe'] = 7\n",
    "print(data)"
   ]
  },
  {
   "cell_type": "markdown",
   "id": "d071ff5b-112e-41df-ac1c-21116465f77b",
   "metadata": {},
   "source": [
    "### 4.1.6 팬시 색인"
   ]
  },
  {
   "cell_type": "markdown",
   "id": "1f82f9fb-5b09-4b04-b072-ac36137d2465",
   "metadata": {},
   "source": [
    "팬시색인 : 정수 배열을 사용한 색인을 설명하기 위해 NumPy에서 차용한 단어"
   ]
  },
  {
   "cell_type": "code",
   "execution_count": 61,
   "id": "425df576-8c75-4061-b14d-ed511368331a",
   "metadata": {},
   "outputs": [
    {
     "name": "stdout",
     "output_type": "stream",
     "text": [
      "[[0. 0. 0. 0.]\n",
      " [1. 1. 1. 1.]\n",
      " [2. 2. 2. 2.]\n",
      " [3. 3. 3. 3.]\n",
      " [4. 4. 4. 4.]\n",
      " [5. 5. 5. 5.]\n",
      " [6. 6. 6. 6.]\n",
      " [7. 7. 7. 7.]]\n"
     ]
    }
   ],
   "source": [
    "# 예시) 8x4 배열\n",
    "arr = np.empty((8,4))\n",
    "\n",
    "for i in range(8):\n",
    "    arr[i] = i\n",
    "\n",
    "print(arr)"
   ]
  },
  {
   "cell_type": "code",
   "execution_count": 62,
   "id": "8d34b19d-e813-42dd-b715-3ec3fa0fba27",
   "metadata": {},
   "outputs": [
    {
     "data": {
      "text/plain": [
       "array([[4., 4., 4., 4.],\n",
       "       [3., 3., 3., 3.],\n",
       "       [0., 0., 0., 0.],\n",
       "       [6., 6., 6., 6.]])"
      ]
     },
     "execution_count": 62,
     "metadata": {},
     "output_type": "execute_result"
    }
   ],
   "source": [
    "# 특정한 순서로 로우 선택하고 싶을 때\n",
    "arr[[4,3,0,6]]"
   ]
  },
  {
   "cell_type": "code",
   "execution_count": 63,
   "id": "18a9a2d2-bc05-4d6b-8643-42989523faac",
   "metadata": {},
   "outputs": [
    {
     "data": {
      "text/plain": [
       "array([[5., 5., 5., 5.],\n",
       "       [3., 3., 3., 3.],\n",
       "       [1., 1., 1., 1.]])"
      ]
     },
     "execution_count": 63,
     "metadata": {},
     "output_type": "execute_result"
    }
   ],
   "source": [
    "# 색인으로 음수 사용 시 끝에서부터 로우 선택\n",
    "arr[[-3,-5,-7]]"
   ]
  },
  {
   "cell_type": "code",
   "execution_count": 65,
   "id": "9463c9ea-7d61-421e-94fc-5c774467764f",
   "metadata": {},
   "outputs": [
    {
     "name": "stdout",
     "output_type": "stream",
     "text": [
      "[[ 0  1  2  3]\n",
      " [ 4  5  6  7]\n",
      " [ 8  9 10 11]\n",
      " [12 13 14 15]\n",
      " [16 17 18 19]\n",
      " [20 21 22 23]\n",
      " [24 25 26 27]\n",
      " [28 29 30 31]]\n",
      "[ 4 23 29 10]\n"
     ]
    }
   ],
   "source": [
    "# 다차원 색인 배열 넘기기 -> 각각의 색인 튜플에 대응하는 1차원 배열 선택됨\n",
    "arr = np.arange(32).reshape((8,4))\n",
    "print(arr)\n",
    "print(arr[[1,5,7,2],[0,3,1,2]])"
   ]
  },
  {
   "cell_type": "code",
   "execution_count": 66,
   "id": "da929d47-c977-4713-9eb2-d756527c37d2",
   "metadata": {},
   "outputs": [
    {
     "data": {
      "text/plain": [
       "array([[ 4,  7,  5,  6],\n",
       "       [20, 23, 21, 22],\n",
       "       [28, 31, 29, 30],\n",
       "       [ 8, 11,  9, 10]])"
      ]
     },
     "execution_count": 66,
     "metadata": {},
     "output_type": "execute_result"
    }
   ],
   "source": [
    "# 행렬의 행과 열에 대응하는 사각형 모양의 값 선택하려면\n",
    "arr[[1,5,7,2]][:,[0,3,1,2]]"
   ]
  },
  {
   "cell_type": "markdown",
   "id": "a8d6288d-e87d-4482-a968-344a3ea71dd5",
   "metadata": {},
   "source": [
    "### 4.1.7 배열 전치와 축 바꾸기"
   ]
  },
  {
   "cell_type": "markdown",
   "id": "ca06d547-d00f-4867-9686-b17c542d09eb",
   "metadata": {},
   "source": [
    "배열 전치 : 데이터를 복사하지 않고 데이터의 모양이 바뀐 뷰를 반환하는 특별한 기능"
   ]
  },
  {
   "cell_type": "code",
   "execution_count": 68,
   "id": "00872490-4b5e-4502-8079-23d2744b773a",
   "metadata": {},
   "outputs": [
    {
     "name": "stdout",
     "output_type": "stream",
     "text": [
      "[[ 0  1  2  3  4]\n",
      " [ 5  6  7  8  9]\n",
      " [10 11 12 13 14]]\n",
      "[[ 0  5 10]\n",
      " [ 1  6 11]\n",
      " [ 2  7 12]\n",
      " [ 3  8 13]\n",
      " [ 4  9 14]]\n"
     ]
    }
   ],
   "source": [
    "arr = np.arange(15).reshape((3,5))\n",
    "print(arr)\n",
    "print(arr.T)"
   ]
  },
  {
   "cell_type": "code",
   "execution_count": 70,
   "id": "e566af59-a460-4732-bb70-bcd9afed755d",
   "metadata": {},
   "outputs": [
    {
     "name": "stdout",
     "output_type": "stream",
     "text": [
      "[[ 0.23682417  0.8624826   1.29471825]\n",
      " [ 0.8784804  -0.68663487  0.74849047]\n",
      " [ 0.76738858  1.5414299  -1.50632633]\n",
      " [ 0.24543769  2.28322909 -1.69017385]\n",
      " [-0.28695235  0.54867963  0.39182112]\n",
      " [-1.75201262 -0.11417477 -1.18585951]]\n",
      "[[ 4.62882827  1.38691835  1.35859165]\n",
      " [ 1.38691835  9.11857012 -5.22783874]\n",
      " [ 1.35859165 -5.22783874  8.92202656]]\n"
     ]
    }
   ],
   "source": [
    "# 행렬의 내적은 np.dot을 이용해서 구할 수 있음\n",
    "arr = np.random.randn(6,3)\n",
    "\n",
    "print(arr)\n",
    "print(np.dot(arr.T,arr))"
   ]
  },
  {
   "cell_type": "code",
   "execution_count": 72,
   "id": "5bddadf6-3e03-46e5-a0db-b3fbc0c65c94",
   "metadata": {},
   "outputs": [
    {
     "name": "stdout",
     "output_type": "stream",
     "text": [
      "[[[ 0  1  2  3]\n",
      "  [ 4  5  6  7]]\n",
      "\n",
      " [[ 8  9 10 11]\n",
      "  [12 13 14 15]]]\n",
      "[[[ 0  1  2  3]\n",
      "  [ 8  9 10 11]]\n",
      "\n",
      " [[ 4  5  6  7]\n",
      "  [12 13 14 15]]]\n"
     ]
    }
   ],
   "source": [
    "# 다차원 배열의 경우 transpose 메서드는 튜플로 축 번호를 받아서 치환\n",
    "arr = np.arange(16).reshape((2,2,4))\n",
    "print(arr)\n",
    "print(arr.transpose((1,0,2)))"
   ]
  },
  {
   "cell_type": "code",
   "execution_count": 73,
   "id": "8d86e705-6e4c-4792-9d56-d82b9e549688",
   "metadata": {},
   "outputs": [
    {
     "name": "stdout",
     "output_type": "stream",
     "text": [
      "[[[ 0  1  2  3]\n",
      "  [ 4  5  6  7]]\n",
      "\n",
      " [[ 8  9 10 11]\n",
      "  [12 13 14 15]]]\n",
      "[[[ 0  4]\n",
      "  [ 1  5]\n",
      "  [ 2  6]\n",
      "  [ 3  7]]\n",
      "\n",
      " [[ 8 12]\n",
      "  [ 9 13]\n",
      "  [10 14]\n",
      "  [11 15]]]\n"
     ]
    }
   ],
   "source": [
    "# swapaxes : 두개의 축 번호를 받아 배열을 뒤바꿈(데이터 복사하지 않고 원래 데이터에 대한 뷰 반환)\n",
    "print(arr)\n",
    "print(arr.swapaxes(1,2))"
   ]
  },
  {
   "cell_type": "markdown",
   "id": "df5c8f02-a34e-460d-9f43-42eea0f84144",
   "metadata": {},
   "source": [
    "## 4.2 유니버설 함수 : 배열의 각 원소를 빠르게 처리하는 함수"
   ]
  },
  {
   "cell_type": "markdown",
   "id": "737bc638-65c7-4bf5-88cb-3a684386057f",
   "metadata": {},
   "source": [
    "유니버설(`ufunc`) 함수 : `ndarray` 안에 있는 데이터 원소별로 연산을 수행하는 함수\n",
    "(하나 이상의 스칼라값을 받아 하나 이상의 스칼라 결괏값을 반환하는 함수를 고속으로 수행)"
   ]
  },
  {
   "cell_type": "code",
   "execution_count": 79,
   "id": "828af7b2-f225-4fff-b598-dc0e72416c16",
   "metadata": {},
   "outputs": [
    {
     "name": "stdout",
     "output_type": "stream",
     "text": [
      "[0 1 2 3 4 5 6 7 8 9]\n",
      "[0.         1.         1.41421356 1.73205081 2.         2.23606798\n",
      " 2.44948974 2.64575131 2.82842712 3.        ]\n",
      "[1.00000000e+00 2.71828183e+00 7.38905610e+00 2.00855369e+01\n",
      " 5.45981500e+01 1.48413159e+02 4.03428793e+02 1.09663316e+03\n",
      " 2.98095799e+03 8.10308393e+03]\n"
     ]
    }
   ],
   "source": [
    "# sqrt나 exp 같은 간단한 변형을 전체 원소에 적용 가능\n",
    "arr = np.arange(10)\n",
    "print(arr)\n",
    "print(np.sqrt(arr))\n",
    "print(np.exp(arr))"
   ]
  },
  {
   "cell_type": "code",
   "execution_count": 80,
   "id": "616884e3-20f8-4e71-a585-89dd8ae10395",
   "metadata": {},
   "outputs": [
    {
     "name": "stdout",
     "output_type": "stream",
     "text": [
      "[ 0.59861291  0.75906481 -0.34324914 -0.23269163 -1.51333391 -0.21964627\n",
      " -0.09376796 -0.10632831]\n",
      "[ 1.01033068  0.49603758  0.01073171 -0.65857122 -1.59853158 -0.62538745\n",
      "  1.56069397 -1.16235549]\n",
      "[ 1.01033068  0.75906481  0.01073171 -0.23269163 -1.51333391 -0.21964627\n",
      "  1.56069397 -0.10632831]\n"
     ]
    }
   ],
   "source": [
    "# add나 maximum처럼 2개의 인자를 취해서 단일 배열 반환(이항 유니버설 함수)\n",
    "x = np.random.randn(8)\n",
    "y = np.random.randn(8)\n",
    "\n",
    "print(x)\n",
    "print(y)\n",
    "print(np.maximum(x,y))"
   ]
  },
  {
   "cell_type": "code",
   "execution_count": 82,
   "id": "d0d8e3d6-f381-4d14-9c7b-6bf6dbeb5065",
   "metadata": {},
   "outputs": [
    {
     "name": "stdout",
     "output_type": "stream",
     "text": [
      "[ 0.20079485  4.59946592  1.1350992  -4.2718466  -5.34971615  3.20610268\n",
      " -2.15527342]\n",
      "[ 0.20079485  0.59946592  0.1350992  -0.2718466  -0.34971615  0.20610268\n",
      " -0.15527342]\n",
      "[ 0.  4.  1. -4. -5.  3. -2.]\n"
     ]
    }
   ],
   "source": [
    "# 'modf' (분수를 받아 몫과 나머지 함께 반환) → 여러 개의 배열 반환\n",
    "arr = np.random.randn(7) * 5\n",
    "\n",
    "print(arr)\n",
    "remainder, whole_part = np.modf(arr)\n",
    "\n",
    "print(remainder)\n",
    "print(whole_part)"
   ]
  },
  {
   "cell_type": "code",
   "execution_count": 83,
   "id": "c2e96d1a-695d-4b41-a0b1-d7ffa555b278",
   "metadata": {},
   "outputs": [
    {
     "name": "stdout",
     "output_type": "stream",
     "text": [
      "[ 0.20079485  4.59946592  1.1350992  -4.2718466  -5.34971615  3.20610268\n",
      " -2.15527342]\n",
      "[0.44810138 2.14463655 1.06541035        nan        nan 1.79055932\n",
      "        nan]\n",
      "[0.44810138 2.14463655 1.06541035        nan        nan 1.79055932\n",
      "        nan]\n",
      "[0.44810138 2.14463655 1.06541035        nan        nan 1.79055932\n",
      "        nan]\n"
     ]
    },
    {
     "name": "stderr",
     "output_type": "stream",
     "text": [
      "C:\\Users\\수빈\\AppData\\Local\\Temp\\ipykernel_14592\\2910715243.py:3: RuntimeWarning: invalid value encountered in sqrt\n",
      "  print(np.sqrt(arr))\n",
      "C:\\Users\\수빈\\AppData\\Local\\Temp\\ipykernel_14592\\2910715243.py:4: RuntimeWarning: invalid value encountered in sqrt\n",
      "  print(np.sqrt(arr, arr))\n"
     ]
    }
   ],
   "source": [
    "# 선택적으로 out 인자를 취해 계산 결과를 따로 저장할 수 있음\n",
    "print(arr)\n",
    "print(np.sqrt(arr))\n",
    "print(np.sqrt(arr, arr))\n",
    "print(arr)"
   ]
  },
  {
   "cell_type": "markdown",
   "id": "f5dc5557-8e13-4b6b-a543-1a382cfefd5f",
   "metadata": {},
   "source": []
  },
  {
   "cell_type": "markdown",
   "id": "8c621299-5eb9-425c-b913-3e949fa5e53b",
   "metadata": {},
   "source": [
    "## 4.3 배열을 이용한 배열 지향 프로그래밍"
   ]
  },
  {
   "cell_type": "markdown",
   "id": "2aabbfbe-f390-445d-9f35-92cfc8123305",
   "metadata": {},
   "source": [
    "`NumPy` 배열을 사용하면 반복문을 사용하지 않고 간결하게 많은 종류의 데이터 처리 작업 가능\n",
    "\r\n",
    "**벡터화** : 배열 연산을 사용해서 반복문을 명시적으로 제거하는 기법"
   ]
  },
  {
   "cell_type": "code",
   "execution_count": 84,
   "id": "c41145fd-5bba-495b-8e69-49807efb9cbc",
   "metadata": {},
   "outputs": [
    {
     "name": "stdout",
     "output_type": "stream",
     "text": [
      "[[-5.   -5.   -5.   ... -5.   -5.   -5.  ]\n",
      " [-4.99 -4.99 -4.99 ... -4.99 -4.99 -4.99]\n",
      " [-4.98 -4.98 -4.98 ... -4.98 -4.98 -4.98]\n",
      " ...\n",
      " [ 4.97  4.97  4.97 ...  4.97  4.97  4.97]\n",
      " [ 4.98  4.98  4.98 ...  4.98  4.98  4.98]\n",
      " [ 4.99  4.99  4.99 ...  4.99  4.99  4.99]]\n",
      "[[7.07106781 7.06400028 7.05693985 ... 7.04988652 7.05693985 7.06400028]\n",
      " [7.06400028 7.05692568 7.04985815 ... 7.04279774 7.04985815 7.05692568]\n",
      " [7.05693985 7.04985815 7.04278354 ... 7.03571603 7.04278354 7.04985815]\n",
      " ...\n",
      " [7.04988652 7.04279774 7.03571603 ... 7.0286414  7.03571603 7.04279774]\n",
      " [7.05693985 7.04985815 7.04278354 ... 7.03571603 7.04278354 7.04985815]\n",
      " [7.06400028 7.05692568 7.04985815 ... 7.04279774 7.04985815 7.05692568]]\n"
     ]
    }
   ],
   "source": [
    "# np.meshgrid 함수는 두 개의 1차원 배열을 받아 가능한 모든 (x,y) 짝을 만들 수 있는 2차원 배열 두 개를 반환\n",
    "points = np.arange(-5, 5, 0.01)\n",
    "xs, ys = np.meshgrid(points, points)\n",
    "\n",
    "print(ys)\n",
    "\n",
    "# 그리드 상의 두 포인트로 간단하게 계산 적용 가능\n",
    "z = np.sqrt(xs ** 2 + ys ** 2)\n",
    "print(z)"
   ]
  },
  {
   "cell_type": "code",
   "execution_count": 86,
   "id": "41614a28-59d8-4f63-8d50-da3bf5fec84c",
   "metadata": {},
   "outputs": [
    {
     "data": {
      "text/plain": [
       "Text(0.5, 1.0, 'Image plot of $\\\\sqrt{x^2 + y^2}$ for a grid of values')"
      ]
     },
     "execution_count": 86,
     "metadata": {},
     "output_type": "execute_result"
    },
    {
     "data": {
      "image/png": "[encoded data removed]",
      "text/plain": [
       "<Figure size 640x480 with 2 Axes>"
      ]
     },
     "metadata": {},
     "output_type": "display_data"
    }
   ],
   "source": [
    "# matplotlib을 사용해 2차원 배열 시각화 가능\n",
    "import matplotlib.pyplot as plt\n",
    "\n",
    "plt.imshow(z, cmap = plt.cm.gray); plt.colorbar()\n",
    "plt.title(\"Image plot of $\\sqrt{x^2 + y^2}$ for a grid of values\")"
   ]
  },
  {
   "cell_type": "markdown",
   "id": "ca1cd5fa-85ad-4a18-8419-86bf609f457d",
   "metadata": {},
   "source": []
  },
  {
   "cell_type": "markdown",
   "id": "5b8a78fd-1745-4b72-953e-f84497bbbfea",
   "metadata": {},
   "source": [
    "### 4.3.1 배열 연산으로 조건절 표현하기"
   ]
  },
  {
   "cell_type": "code",
   "execution_count": 87,
   "id": "eb2a71df-be57-451d-b9be-f50237d6b9b4",
   "metadata": {},
   "outputs": [],
   "source": [
    "# numpy.where 함수는 x if 조건 else y 같은 삼항식의 벡터화된 버전\n",
    "xarr = np.array([1.1, 1.2, 1.3, 1.4, 1.5])\n",
    "yarr = np.array([2.1, 2.2, 2.3, 2.4, 2.5])\n",
    "cond = np.array([True, False, True, True, False])"
   ]
  },
  {
   "cell_type": "code",
   "execution_count": 89,
   "id": "0625c4d7-a5a2-4b2f-ae14-aa550499aa14",
   "metadata": {},
   "outputs": [
    {
     "name": "stdout",
     "output_type": "stream",
     "text": [
      "[1.1, 2.2, 1.3, 1.4, 2.5]\n"
     ]
    }
   ],
   "source": [
    "# cond의 값이 True일 때는 arr의 값을 취하고, 아니면 yarr의 값을 취하고 싶다면 리스트 표기법을 이용해 작성\n",
    "result =  [(x if c else y) for x, y, c in zip(xarr, yarr, cond)]\n",
    "print(result)"
   ]
  },
  {
   "cell_type": "code",
   "execution_count": 90,
   "id": "00314f65-7dfd-4703-992c-0999e763ca66",
   "metadata": {},
   "outputs": [
    {
     "name": "stdout",
     "output_type": "stream",
     "text": [
      "[1.1 2.2 1.3 1.4 2.5]\n"
     ]
    }
   ],
   "source": [
    "# np.where을 사용하면 아주 간결하고 빠르게 작성 가능\n",
    "result = np.where(cond, xarr, yarr)\n",
    "print(result)"
   ]
  },
  {
   "cell_type": "code",
   "execution_count": 91,
   "id": "ba41942b-8966-4e5e-b8a7-a1bc87ee3476",
   "metadata": {},
   "outputs": [
    {
     "name": "stdout",
     "output_type": "stream",
     "text": [
      "[[ 1.03570375  0.24615142 -2.37514759 -0.13911237]\n",
      " [ 0.85604209  0.21619518 -1.1657539  -0.51948714]\n",
      " [-0.87081519 -0.94314395  0.60979592  0.20445986]\n",
      " [-0.67892985 -0.86587233 -0.84563806 -0.31115747]]\n",
      "[[ True  True False False]\n",
      " [ True  True False False]\n",
      " [False False  True  True]\n",
      " [False False False False]]\n",
      "[[ 2  2 -2 -2]\n",
      " [ 2  2 -2 -2]\n",
      " [-2 -2  2  2]\n",
      " [-2 -2 -2 -2]]\n"
     ]
    }
   ],
   "source": [
    "# np.where의 두번째, 세번째 인자는 배열이 아니어도 상관X\n",
    "# 임의로 생성된 데이터가 들어있는 행렬이 있고 양수는 모두 2로, 음수는 모두 -2로 바꾸려면 np.where 사용\n",
    "arr = np.random.randn(4, 4)\n",
    "print(arr)\n",
    "print(arr > 0)\n",
    "print(np.where(arr > 0, 2, -2))"
   ]
  },
  {
   "cell_type": "code",
   "execution_count": 92,
   "id": "93fa8838-467c-4deb-b546-078cd7272156",
   "metadata": {},
   "outputs": [
    {
     "name": "stdout",
     "output_type": "stream",
     "text": [
      "[[ 2.          2.         -2.37514759 -0.13911237]\n",
      " [ 2.          2.         -1.1657539  -0.51948714]\n",
      " [-0.87081519 -0.94314395  2.          2.        ]\n",
      " [-0.67892985 -0.86587233 -0.84563806 -0.31115747]]\n"
     ]
    }
   ],
   "source": [
    "# np.where을 사용해 스칼라값과 배열 조합 가능\n",
    "# ex) arr의 모든 양수를 2로 바꾸기\n",
    "print(np.where(arr > 0, 2, arr)) # 양수일 경우에만 2 대입"
   ]
  },
  {
   "cell_type": "code",
   "execution_count": null,
   "id": "7a16c2f0-c9cc-4d3c-bb54-925696d883b1",
   "metadata": {},
   "outputs": [],
   "source": []
  },
  {
   "cell_type": "markdown",
   "id": "ae17ba4a-3297-4d08-9ffd-cf3afb12df0f",
   "metadata": {},
   "source": [
    "### 4.3.2 수학 메서드와 통계 메서드"
   ]
  },
  {
   "cell_type": "markdown",
   "id": "3a157d86-0f49-4fc1-92ca-8302335cf138",
   "metadata": {},
   "source": [
    "배열 전체 혹은 배열에서 한 축을 따르는 자료에 대한 통계를 계산하는 수학 함수는 배열 메서드로 사용 가능"
   ]
  },
  {
   "cell_type": "code",
   "execution_count": null,
   "id": "2720e4be-16d4-4f33-8256-8451ccd47b92",
   "metadata": {},
   "outputs": [],
   "source": [
    "# 임의의 정규분포 데이터를 생성하고 집계\n",
    "arr = np.random.randn(5, 4)\n",
    "print(arr)\n",
    "print(arr.mean())\n",
    "print(np.mean(arr))\n",
    "print(arr.sum())"
   ]
  },
  {
   "cell_type": "code",
   "execution_count": 94,
   "id": "c74b58dc-d57a-41a6-a0d2-faf97cb16140",
   "metadata": {},
   "outputs": [
    {
     "name": "stdout",
     "output_type": "stream",
     "text": [
      "[-0.5200419   0.11960149 -0.25213074 -0.09747313  0.65523537]\n",
      "[ 4.08389731  2.17913899 -4.29095873 -2.35131317]\n"
     ]
    }
   ],
   "source": [
    "# mean이나 sum같은 함수는 선택적으로 axis 인자를 받아 해당 axis에 대한 통계를 계산하고 한 차수 낮은 배열 반환\n",
    "print(arr.mean(axis=1))\n",
    "print(arr.sum(axis=0))"
   ]
  },
  {
   "cell_type": "code",
   "execution_count": 95,
   "id": "e2ac3a34-be44-46da-9c60-130762b67444",
   "metadata": {},
   "outputs": [
    {
     "name": "stdout",
     "output_type": "stream",
     "text": [
      "[ 0  1  3  6 10 15 21 28]\n"
     ]
    }
   ],
   "source": [
    "# cumsum과 sumprod 메서드는 중간 계산값을 담고 있는 배열 반환\n",
    "arr = np.array([0,1,2,3,4,5,6,7])\n",
    "print(arr.cumsum())"
   ]
  },
  {
   "cell_type": "code",
   "execution_count": 96,
   "id": "7d44f84f-ad61-4f39-bb8b-0c3657242804",
   "metadata": {},
   "outputs": [
    {
     "name": "stdout",
     "output_type": "stream",
     "text": [
      "[[0 1 2]\n",
      " [3 4 5]\n",
      " [6 7 8]]\n",
      "[[ 0  1  2]\n",
      " [ 3  5  7]\n",
      " [ 9 12 15]]\n",
      "[[  0   0   0]\n",
      " [  3  12  60]\n",
      " [  6  42 336]]\n"
     ]
    }
   ],
   "source": [
    "# 다차원 배열에서 cumsum같은 누산함수는 같은 크기의 배열 반환\n",
    "# 축을 지정하여 부분적으로 계산하면 낮은 차수의 슬라이스 반환\n",
    "arr = np.array([[0,1,2],[3,4,5],[6,7,8]])\n",
    "print(arr)\n",
    "print(arr.cumsum(axis=0))\n",
    "print(arr.cumprod(axis=1))"
   ]
  },
  {
   "cell_type": "code",
   "execution_count": null,
   "id": "435491b3-465e-4121-af71-395957065b7a",
   "metadata": {},
   "outputs": [],
   "source": []
  },
  {
   "cell_type": "markdown",
   "id": "45fbf65d-dcce-4bce-bc91-24564632dca7",
   "metadata": {},
   "source": [
    "### 4.3.3 불리언 배열을 위한 메서드"
   ]
  },
  {
   "cell_type": "code",
   "execution_count": 97,
   "id": "a2a0af40-bcd8-49be-8d91-cb78b996dfe2",
   "metadata": {},
   "outputs": [
    {
     "name": "stdout",
     "output_type": "stream",
     "text": [
      "46\n"
     ]
    }
   ],
   "source": [
    "# 이전 메서드의 불리언값을 1(True) 또는 0(False)으로 강제할 수 있음\n",
    "# -> sum 메서드를 실행하면 불리언 배열에서 True인 원소의 개수를 셀 수 있음\n",
    "arr = np.random.randn(100)\n",
    "print((arr > 0).sum()) # 양수인 원소의 개수"
   ]
  },
  {
   "cell_type": "code",
   "execution_count": 98,
   "id": "1572c5f4-ee70-4647-836b-68353758c779",
   "metadata": {},
   "outputs": [
    {
     "name": "stdout",
     "output_type": "stream",
     "text": [
      "True\n",
      "False\n"
     ]
    }
   ],
   "source": [
    "# any와 all 메서드는 불리언 배열에 특히 유용\n",
    "# any 메서드는 하나 이상의 값이 True인지 검사하고, all 메서드는 모든 원소가 True인지 검사\n",
    "bools = np.array([False, False, True, False])\n",
    "print(bools.any())\n",
    "print(bools.all())"
   ]
  },
  {
   "cell_type": "code",
   "execution_count": null,
   "id": "ee2c7e49-ccd5-4df9-84bf-a206ef314a6b",
   "metadata": {},
   "outputs": [],
   "source": []
  },
  {
   "cell_type": "markdown",
   "id": "f8b8598d-7f2d-4f59-a41c-f9abec44dbf8",
   "metadata": {},
   "source": [
    "### 4.3.4 정렬"
   ]
  },
  {
   "cell_type": "code",
   "execution_count": 100,
   "id": "1b98517b-4380-445b-9630-b9cea18fbb44",
   "metadata": {},
   "outputs": [
    {
     "name": "stdout",
     "output_type": "stream",
     "text": [
      "[-0.67378734 -0.09525587 -1.12374843  1.24284887 -0.89547946 -1.31922367]\n",
      "[-1.31922367 -1.12374843 -0.89547946 -0.67378734 -0.09525587  1.24284887]\n"
     ]
    }
   ],
   "source": [
    "# 파이썬의 내장 리스트형처럼 NumPy 배열 역시 sort 메서드를 사용해 정렬 가능\n",
    "arr = np.random.randn(6)\n",
    "print(arr)\n",
    "arr.sort()\n",
    "print(arr)"
   ]
  },
  {
   "cell_type": "code",
   "execution_count": 101,
   "id": "8505ff3b-c2f7-44d7-a0a7-8fa15aad33d4",
   "metadata": {},
   "outputs": [
    {
     "name": "stdout",
     "output_type": "stream",
     "text": [
      "[[-0.70439523  0.59352889 -0.4992282 ]\n",
      " [-0.16349448  0.50234165 -0.21398516]\n",
      " [ 1.12400916 -0.9808423  -0.25359739]\n",
      " [-0.67879761  1.77173645  0.7269201 ]\n",
      " [ 0.57333027 -0.33181885 -0.01612958]]\n"
     ]
    }
   ],
   "source": [
    "# 다차원 배열의 정렬은 sort 메서드에 넘긴 축의 값에 따라 1차원 부분 정렬\n",
    "arr = np.random.randn(5,3)\n",
    "print(arr)\n",
    "arr.sort(1) # axis = 1"
   ]
  },
  {
   "cell_type": "code",
   "execution_count": 102,
   "id": "40c1f844-28a6-4bde-a235-8203fff25f15",
   "metadata": {},
   "outputs": [
    {
     "data": {
      "text/plain": [
       "-1.7099417690450587"
      ]
     },
     "execution_count": 102,
     "metadata": {},
     "output_type": "execute_result"
    }
   ],
   "source": [
    "# np.sort : 배열을 직접 변경하지 않고 정렬된 결과를 가지고 있는 복사본 반환\n",
    "# 배열의 분위수 구하기 : 배열을 정렬한 후 특정 분위의 값 선택하기\n",
    "large_arr = np.random.randn(1000)\n",
    "large_arr.sort()\n",
    "large_arr[int(0.05 * len(large_arr))] # 5% 분위수"
   ]
  },
  {
   "cell_type": "code",
   "execution_count": null,
   "id": "daf5a8ba-7405-4a8e-bc0b-22c78b8b9a3a",
   "metadata": {},
   "outputs": [],
   "source": []
  },
  {
   "cell_type": "markdown",
   "id": "8423aef7-504d-415d-a0ad-8e6dc024b4f1",
   "metadata": {},
   "source": [
    "### 4.3.5 집합 관련 함수"
   ]
  },
  {
   "cell_type": "code",
   "execution_count": 105,
   "id": "2949cba1-f2f1-4c24-81cf-4cd7ed9611ad",
   "metadata": {},
   "outputs": [
    {
     "name": "stdout",
     "output_type": "stream",
     "text": [
      "['Bob' 'Joe' 'Will']\n",
      "[1 2 3 4]\n"
     ]
    }
   ],
   "source": [
    "# NumPy : 1차원 ndarray를 위한 몇 가지 기본적인 집합 연산 제공\n",
    "# np.unique : 배열 내에서 중복된 원소를 제거하고 남은 원소를 정렬된 형태로 반환\n",
    "names = np.array(['Bob', 'Joe', 'Will', 'Bob', 'Will', 'Joe', 'Joe'])\n",
    "print(np.unique(names))\n",
    "\n",
    "ints = np.array([3,3,3,2,2,1,1,4,4])\n",
    "print(np.unique(ints))"
   ]
  },
  {
   "cell_type": "code",
   "execution_count": 106,
   "id": "c01bd4fe-b2b4-493d-afbc-8eb0b48c03e2",
   "metadata": {},
   "outputs": [
    {
     "data": {
      "text/plain": [
       "['Bob', 'Joe', 'Will']"
      ]
     },
     "execution_count": 106,
     "metadata": {},
     "output_type": "execute_result"
    }
   ],
   "source": [
    "# np.unique를 순수 파이썬만으로 구현하기\n",
    "sorted(set(names))"
   ]
  },
  {
   "cell_type": "code",
   "execution_count": 108,
   "id": "54b2d088-fb00-458d-9ac1-e04512d363b0",
   "metadata": {},
   "outputs": [
    {
     "name": "stdout",
     "output_type": "stream",
     "text": [
      "[ True False False  True  True False  True]\n"
     ]
    }
   ],
   "source": [
    "# np.in1d 함수는 두 개의 배열을 인자로 받아서 첫 번째 배열의 원소가 두 번째 배열의 원소를 포함하는지 나타내는 불리언 배열 반환\n",
    "values = np.array([6,0,0,3,2,5,6])\n",
    "print(np.in1d(values, [2,3,6]))"
   ]
  },
  {
   "cell_type": "code",
   "execution_count": null,
   "id": "eeff98d5-c334-4963-8141-169426ed9f92",
   "metadata": {},
   "outputs": [],
   "source": []
  },
  {
   "cell_type": "markdown",
   "id": "45026761-a532-49dc-986f-7e5efc4ee81e",
   "metadata": {},
   "source": [
    "## 4.4 배열 데이터의 파일 입출력"
   ]
  },
  {
   "cell_type": "markdown",
   "id": "f8c1e06d-c054-4cf4-9479-b69eb2f4f6ac",
   "metadata": {},
   "source": [
    "NumPy는 디스크에서 텍스트나 바이너리 형식의 데이터를 불러오거나 저장할 수 있음"
   ]
  },
  {
   "cell_type": "code",
   "execution_count": 109,
   "id": "aa72a1b0-43cb-4fd2-a3df-5e29455874d8",
   "metadata": {},
   "outputs": [],
   "source": [
    "# np.save와 np.load는 배열 데이터를 효과적으로 디스크에 저장하고 불러오는 함수\n",
    "# → 배열은 기본적으로 압축되지않은 원시 바이너리 형식의 .npy 파일로 저장됨\n",
    "arr = np.arange(10)\n",
    "np.save('some_array', arr)"
   ]
  },
  {
   "cell_type": "code",
   "execution_count": 110,
   "id": "494d7dad-17af-4705-9a18-ae40fce62bde",
   "metadata": {},
   "outputs": [
    {
     "data": {
      "text/plain": [
       "array([0, 1, 2, 3, 4, 5, 6, 7, 8, 9])"
      ]
     },
     "execution_count": 110,
     "metadata": {},
     "output_type": "execute_result"
    }
   ],
   "source": [
    "# 저장되는 파일 경로가 .npy로 끝나지 않으면 자동적으로 확장자 추가됨\n",
    "# np.load를 통해 불러오기\n",
    "np.load('some_array.npy')"
   ]
  },
  {
   "cell_type": "code",
   "execution_count": 111,
   "id": "1e048793-92f8-48d9-8b38-2ff5b8024aaa",
   "metadata": {},
   "outputs": [],
   "source": [
    "# np.savez 함수를 이용해 여러 개의 배열을 압축된 형식으로 저장하기(저장하려는 배열을 키워드 인자 형태로 전달)\n",
    "np.savez('array_archive.npz', a = arr, b = arr)"
   ]
  },
  {
   "cell_type": "code",
   "execution_count": 112,
   "id": "9bccad26-460b-47e4-8555-77964b5cab00",
   "metadata": {},
   "outputs": [
    {
     "name": "stdout",
     "output_type": "stream",
     "text": [
      "[0 1 2 3 4 5 6 7 8 9]\n"
     ]
    }
   ],
   "source": [
    "# npz파일을 불러올 때, 각각의 배열을 필요할 때 불러올 수 있도록 사전 형식의 객체에 저장\n",
    "arch = np.load('array_archive.npz')\n",
    "print(arch['b'])"
   ]
  },
  {
   "cell_type": "code",
   "execution_count": 113,
   "id": "e1c55d83-befb-4c02-9e40-afbf3abf7f8b",
   "metadata": {},
   "outputs": [],
   "source": [
    "# 압축이 잘되는 형식의 데이터라면 numpy.savez_compressed 사용\n",
    "np.savez_compressed('arrays_compressed.npz', a = arr, b = arr)"
   ]
  },
  {
   "cell_type": "code",
   "execution_count": null,
   "id": "66480806-5b35-4bbf-a36e-fed2c6934e37",
   "metadata": {},
   "outputs": [],
   "source": []
  },
  {
   "cell_type": "markdown",
   "id": "6e731e4a-6b2d-4554-8107-c01ddcd812c2",
   "metadata": {},
   "source": [
    "## 4.5 선형대수"
   ]
  },
  {
   "cell_type": "markdown",
   "id": "8c161ea0-6709-4e8a-a654-c3c9e15510c9",
   "metadata": {},
   "source": [
    "두 개의 2차원 배열을 * 연산자로 곱하면 행렬 곱셈이 아니라 대응하는 각각의 원소의 곱을 계산"
   ]
  },
  {
   "cell_type": "code",
   "execution_count": 114,
   "id": "6d1bfd0a-f5c3-4cb5-b4cc-e540a6ddda98",
   "metadata": {},
   "outputs": [
    {
     "name": "stdout",
     "output_type": "stream",
     "text": [
      "[[1. 2. 3.]\n",
      " [4. 5. 6.]]\n",
      "[[ 6. 23.]\n",
      " [-1.  7.]\n",
      " [ 8.  9.]]\n",
      "[[ 28.  64.]\n",
      " [ 67. 181.]]\n"
     ]
    }
   ],
   "source": [
    "# 행렬곱셈 : 배열 메서드이자 numpy 네임스페이스 안에 있는 dot 함수를 이용해 계산\n",
    "x = np.array([[1.,2.,3.],[4.,5.,6.]])\n",
    "y = np.array([[6.,23.], [-1,7],[8,9]])\n",
    "print(x)\n",
    "print(y)\n",
    "print(x.dot(y))"
   ]
  },
  {
   "cell_type": "code",
   "execution_count": 116,
   "id": "924e9d69-851e-4c5a-9128-bd07ae81e8d3",
   "metadata": {},
   "outputs": [
    {
     "name": "stdout",
     "output_type": "stream",
     "text": [
      "[[ 28.  64.]\n",
      " [ 67. 181.]]\n"
     ]
    }
   ],
   "source": [
    "# np.dot(x,y)와 x.dot(y)는 동일함\n",
    "print(np.dot(x,y))"
   ]
  },
  {
   "cell_type": "code",
   "execution_count": 117,
   "id": "e8a19d97-d182-4ef9-a73e-f5bbea61bbb2",
   "metadata": {},
   "outputs": [
    {
     "name": "stdout",
     "output_type": "stream",
     "text": [
      "[ 6. 15.]\n"
     ]
    }
   ],
   "source": [
    "# 2차원 배열과 곱셈이 가능한 크기의 1차원 배열 간의 행렬 곱셈의 결과는 1차원 배열\n",
    "print(np.dot(x, np.ones(3)))"
   ]
  },
  {
   "cell_type": "code",
   "execution_count": 120,
   "id": "ab0b0eed-06de-40e5-9738-5bf8119f3a82",
   "metadata": {},
   "outputs": [
    {
     "name": "stdout",
     "output_type": "stream",
     "text": [
      "[ 6. 15.]\n"
     ]
    }
   ],
   "source": [
    "# @ 기호 : 행렬 곱셈을 수행하는 연산자\n",
    "print(x @ np.ones(3))"
   ]
  },
  {
   "cell_type": "code",
   "execution_count": 122,
   "id": "08fe7856-7b06-402d-a48a-3d38b2b6a04a",
   "metadata": {},
   "outputs": [
    {
     "name": "stdout",
     "output_type": "stream",
     "text": [
      "[[ 8.25165178 -0.77058334 -6.31770253 -2.09188448  2.29928756]\n",
      " [-0.77058334  0.49272875  0.87783632  0.37516343 -0.29961012]\n",
      " [-6.31770253  0.87783632  5.37208179  1.84139258 -1.88248064]\n",
      " [-2.09188448  0.37516343  1.84139258  0.92309423 -0.75146956]\n",
      " [ 2.29928756 -0.29961012 -1.88248064 -0.75146956  0.85843117]]\n",
      "[[ 1.00000000e+00  1.04084502e-16  1.46530909e-16  7.70195061e-17\n",
      "  -8.74129335e-16]\n",
      " [-5.20766428e-17  1.00000000e+00 -9.67453598e-16  4.43305394e-16\n",
      "   3.75965905e-16]\n",
      " [-1.06787982e-15  6.11230804e-17  1.00000000e+00  3.01952014e-16\n",
      "  -1.13089323e-16]\n",
      " [ 1.64881245e-15 -2.93751979e-16  3.01684131e-16  1.00000000e+00\n",
      "  -5.38298938e-17]\n",
      " [-1.26127167e-15 -2.18004494e-17  2.64871257e-16 -8.05330701e-17\n",
      "   1.00000000e+00]]\n",
      "[[-3.12955332  3.16864348 -4.12262192  2.32345913  2.83850246]\n",
      " [ 0.         -3.1906678   0.5076259   3.43712418  3.37326468]\n",
      " [ 0.          0.         -1.77839105 -0.01074915 -4.86457369]\n",
      " [ 0.          0.          0.         -3.8520857  -3.66575706]\n",
      " [ 0.          0.          0.          0.          0.31277757]]\n"
     ]
    }
   ],
   "source": [
    "# numpy.linalg : 행렬의 분할과 역행렬, 행렬식과 같은 것들을 포함\n",
    "from numpy.linalg import inv, qr\n",
    "X = np.random.randn(5,5)\n",
    "mat = X.T.dot(X) # X.T.의 전치행렬과 X의 곱을 계산\n",
    "print(inv(mat))\n",
    "print(mat.dot(inv(mat)))\n",
    "\n",
    "q, r = qr(mat)\n",
    "print(r)"
   ]
  },
  {
   "cell_type": "code",
   "execution_count": null,
   "id": "5a0dc33a-4878-44d0-ba2d-71964894fa55",
   "metadata": {},
   "outputs": [],
   "source": []
  },
  {
   "cell_type": "markdown",
   "id": "49e69a82-d70a-4da9-8781-ebf06cc00b4d",
   "metadata": {},
   "source": [
    "## 4.6 난수 생성"
   ]
  },
  {
   "cell_type": "code",
   "execution_count": 123,
   "id": "b6c589c8-2cd8-4647-8008-2654491f5e87",
   "metadata": {},
   "outputs": [
    {
     "name": "stdout",
     "output_type": "stream",
     "text": [
      "[[ 0.52415638 -0.77506927  0.17842069  1.56292063]\n",
      " [-0.02144904  0.65551551 -0.14880697  0.82452963]\n",
      " [-0.4066878  -0.25984639  0.05292557 -0.14082721]\n",
      " [ 0.74386579 -1.11593526 -1.3492288  -0.47051657]]\n"
     ]
    }
   ],
   "source": [
    "# numpy.random 모듈은 파이썬 내장 random 함수를 보강하여 다양한 종류의 확률분포로부터 효과적으로 표본값을 생성하는데 주로 사용됨\n",
    "# ex) normal을 사용해 표준정규분포로부터 4x4 크기 표본 생성 가능\n",
    "samples = np.random.normal(size=(4,4))\n",
    "print(samples)"
   ]
  },
  {
   "cell_type": "code",
   "execution_count": 125,
   "id": "983acf70-5eb9-4089-9212-532531a2d238",
   "metadata": {},
   "outputs": [
    {
     "name": "stdout",
     "output_type": "stream",
     "text": [
      "2.96 s ± 117 ms per loop (mean ± std. dev. of 7 runs, 1 loop each)\n",
      "82.8 ms ± 4.15 ms per loop (mean ± std. dev. of 7 runs, 10 loops each)\n"
     ]
    }
   ],
   "source": [
    "# 파이썬 내장 random 모듈은 한 번에 하나의 값만 생성 가능\n",
    "# numpy.random은 매우 큰 표본을 생성하는데 파이썬 내장 모듈보다 수십 배 이상 빠름\n",
    "from random import normalvariate\n",
    "N = 1000000\n",
    "\n",
    "#%timeit samples = [normalvariate(0,1) for _ in range(N)]\n",
    "%timeit np.random.normal(size=N)"
   ]
  },
  {
   "cell_type": "code",
   "execution_count": 126,
   "id": "6702c1dd-8e69-45c3-9ab3-3b6fa7025047",
   "metadata": {},
   "outputs": [],
   "source": [
    "# 유사 난수 -> 난수 생성기의 시드값에 따라 정해진 난수를 알고리즘으로 생성\n",
    "# NumPy 난수 생성기의 시드값은 np.random.seed를 이용해서 변경 가능\n",
    "np.random.seed(1234)"
   ]
  },
  {
   "cell_type": "code",
   "execution_count": 127,
   "id": "456982e7-56fa-4c17-a150-c36e10aff05a",
   "metadata": {},
   "outputs": [
    {
     "name": "stdout",
     "output_type": "stream",
     "text": [
      "[ 0.47143516 -1.19097569  1.43270697 -0.3126519  -0.72058873  0.88716294\n",
      "  0.85958841 -0.6365235   0.01569637 -2.24268495]\n"
     ]
    }
   ],
   "source": [
    "# numpy.random.RandomState를 이용해 다른 난수 생성기로부터 격리된 난수 생성기를 만들 수 있음\n",
    "rng = np.random.RandomState(1234)\n",
    "print(rng.randn(10))"
   ]
  },
  {
   "cell_type": "code",
   "execution_count": null,
   "id": "f8b78c91-49da-48f8-9983-1ec82841f634",
   "metadata": {},
   "outputs": [],
   "source": []
  },
  {
   "cell_type": "markdown",
   "id": "e1b4d3de-5e55-4160-87b0-24de4063f42f",
   "metadata": {},
   "source": [
    "## 4.7 계단오르내리기 예제"
   ]
  },
  {
   "cell_type": "code",
   "execution_count": 133,
   "id": "7d443ab4-652d-4604-a245-a4821fb10ea7",
   "metadata": {},
   "outputs": [],
   "source": [
    "import random\n",
    "position = 0\n",
    "walk = [position]\n",
    "steps = 1000\n",
    "\n",
    "for i in range(steps):\n",
    "    step = 1 if random.randint(0,1) else -1\n",
    "    position += step\n",
    "    walk.append(position)"
   ]
  },
  {
   "cell_type": "code",
   "execution_count": 134,
   "id": "ad511e24-3cd5-43b4-b74f-48b5731b3799",
   "metadata": {},
   "outputs": [
    {
     "data": {
      "text/plain": [
       "[<matplotlib.lines.Line2D at 0x11d880db3d0>]"
      ]
     },
     "execution_count": 134,
     "metadata": {},
     "output_type": "execute_result"
    },
    {
     "data": {
      "image/png": "[encoded data removed]",
      "text/plain": [
       "<Figure size 640x480 with 1 Axes>"
      ]
     },
     "metadata": {},
     "output_type": "display_data"
    }
   ],
   "source": [
    "plt.plot(walk[:100])"
   ]
  },
  {
   "cell_type": "code",
   "execution_count": 135,
   "id": "bad36f2b-c551-4ddc-a007-febd0bf41084",
   "metadata": {},
   "outputs": [],
   "source": [
    "# walk : 계단을 오르거나(+1) 내려간(-1) 값의 누적합\n",
    "# np.random 모듈을 사용해 1000번 수행한 결과 (1,-1)를 한번에 저장하고 누적합 계산\n",
    "nsteps = 1000\n",
    "draws = np.random.randint(0, 2, size = nsteps)\n",
    "steps = np.where(draws > 0, 1, -1)\n",
    "walk = steps.cumsum()"
   ]
  },
  {
   "cell_type": "code",
   "execution_count": 136,
   "id": "ff15c98a-c351-45ed-92f0-b5c8eae3d938",
   "metadata": {},
   "outputs": [
    {
     "name": "stdout",
     "output_type": "stream",
     "text": [
      "-9\n",
      "60\n"
     ]
    }
   ],
   "source": [
    "# 계단을 오르내린 위치의 최솟값과 최댓값같은 간단한 통계 구하기\n",
    "print(walk.min())\n",
    "print(walk.max())"
   ]
  },
  {
   "cell_type": "code",
   "execution_count": 139,
   "id": "484bf8e4-4c22-42b7-9046-2e8297097143",
   "metadata": {},
   "outputs": [
    {
     "data": {
      "text/plain": [
       "297"
      ]
     },
     "execution_count": 139,
     "metadata": {},
     "output_type": "execute_result"
    }
   ],
   "source": [
    "# 계단의 처음 위치에서 최초로 10칸 떨어지기까지 얼마나 걸렸는지\n",
    "# 최초의 10이나 최초의 -10인 시점을 구해야하므로 불리언 배열에서 최댓값의 처음 색인을 반환하는 argmax 사용\n",
    "(np.abs(walk) >= 10).argmax()"
   ]
  },
  {
   "cell_type": "markdown",
   "id": "9dc99d66-f48e-46ce-a1dc-a6dc46a36d35",
   "metadata": {},
   "source": [
    "### 4.7.1 한번에 시뮬레이션하기"
   ]
  },
  {
   "cell_type": "code",
   "execution_count": 141,
   "id": "9a0450c3-968c-45d5-819d-940b2941becf",
   "metadata": {},
   "outputs": [
    {
     "name": "stdout",
     "output_type": "stream",
     "text": [
      "[[  1   2   3 ...  46  47  46]\n",
      " [  1   0   1 ...  40  41  42]\n",
      " [  1   2   3 ... -26 -27 -28]\n",
      " ...\n",
      " [  1   0   1 ...  64  65  66]\n",
      " [  1   2   1 ...   2   1   0]\n",
      " [ -1  -2  -3 ...  32  33  34]]\n"
     ]
    }
   ],
   "source": [
    "# 5000회 시뮬레이션으로 바꿔보기\n",
    "# numpy.random 함수에 크기가 2인 튜플 넘기면 2차원 배열 생성 -> 각 컬럼에서 누적합 구하기\n",
    "nwalks = 5000\n",
    "nsteps = 1000\n",
    "draws = np.random.randint(0,2, size=(nwalks, nsteps)) # 0 또는 1\n",
    "steps = np.where(draws > 0, 1, -1)\n",
    "walks = steps.cumsum(1)\n",
    "print(walks)"
   ]
  },
  {
   "cell_type": "code",
   "execution_count": 142,
   "id": "80360d5f-45db-4ff7-9ba4-3970e4811fb2",
   "metadata": {},
   "outputs": [
    {
     "name": "stdout",
     "output_type": "stream",
     "text": [
      "122\n",
      "-128\n"
     ]
    }
   ],
   "source": [
    "# 모든 시뮬레이션의 최댓값과 최솟값\n",
    "print(walks.max())\n",
    "print(walks.min())"
   ]
  },
  {
   "cell_type": "code",
   "execution_count": 143,
   "id": "06dd061a-03e6-477b-9eef-35e03b4e80e3",
   "metadata": {},
   "outputs": [
    {
     "name": "stdout",
     "output_type": "stream",
     "text": [
      "[ True  True  True ...  True False  True]\n",
      "3368\n"
     ]
    }
   ],
   "source": [
    "# 누적합이 30 혹은 -30이 되는 최소 시점 계산해보기\n",
    "# 모든 경우가 30에 도달하지 않기 때문에 까다롭지만 any 메서드를 사용해 해결\n",
    "hits30 = (np.abs(walks) >= 30).any(1)\n",
    "print(hits30)\n",
    "print(hits30.sum())"
   ]
  },
  {
   "cell_type": "code",
   "execution_count": 145,
   "id": "2a31011c-5991-41b3-a673-f61d381c9383",
   "metadata": {},
   "outputs": [
    {
     "name": "stdout",
     "output_type": "stream",
     "text": [
      "509.99762470308787\n"
     ]
    }
   ],
   "source": [
    "# 불리언 배열을 사용해 walks에서 컬럼을 선택하고 절댓값이 30을 넘는 경우에 대해 \n",
    "# 축 1의 argmax 값을 구하면 처음 위치에서 30칸 이상 멀어지는 최소 횟수 구하기 가능\n",
    "crossing_times = (np.abs(walks[hits30]) >= 30).argmax(1)\n",
    "print(crossing_times.mean())"
   ]
  },
  {
   "cell_type": "code",
   "execution_count": 147,
   "id": "1393f16b-3022-4d2a-9186-9e5a734bab21",
   "metadata": {},
   "outputs": [
    {
     "data": {
      "text/plain": [
       "array([[ 0.34363475, -0.05522411,  0.05083405, ..., -0.33842559,\n",
       "        -0.0230145 ,  0.23113296],\n",
       "       [ 0.16099452, -0.50311406,  0.18528403, ...,  0.2945566 ,\n",
       "        -0.12584062, -0.19622136],\n",
       "       [ 0.26578933, -0.09885966,  0.23270679, ...,  0.16738906,\n",
       "         0.060458  ,  0.28324365],\n",
       "       ...,\n",
       "       [ 0.24418693,  0.58143407,  0.01644158, ...,  0.11702547,\n",
       "        -0.02086471,  0.00513563],\n",
       "       [-0.15765375, -0.19420976,  0.0542288 , ...,  0.15976314,\n",
       "         0.22189473,  0.07530368],\n",
       "       [ 0.37258899, -0.0645595 , -0.42768902, ...,  0.28853102,\n",
       "        -0.25261274, -0.32302591]])"
      ]
     },
     "execution_count": 147,
     "metadata": {},
     "output_type": "execute_result"
    }
   ],
   "source": [
    "# normal 함수에 표준편차와 평균값을 넣어서 정규분포에서 표본 추출하는 것처럼 난수발생함수 사용\n",
    "steps = np.random.normal(loc = 0, scale = 0.25, size=(nwalks, nsteps))\n",
    "steps"
   ]
  }
 ],
 "metadata": {
  "kernelspec": {
   "display_name": "Python 3 (ipykernel)",
   "language": "python",
   "name": "python3"
  },
  "language_info": {
   "codemirror_mode": {
    "name": "ipython",
    "version": 3
   },
   "file_extension": ".py",
   "mimetype": "text/x-python",
   "name": "python",
   "nbconvert_exporter": "python",
   "pygments_lexer": "ipython3",
   "version": "3.9.13"
  }
 },
 "nbformat": 4,
 "nbformat_minor": 5
}
