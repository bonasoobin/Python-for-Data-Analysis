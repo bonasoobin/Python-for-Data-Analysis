{
  "nbformat": 4,
  "nbformat_minor": 0,
  "metadata": {
    "colab": {
      "provenance": [],
      "authorship_tag": "ABX9TyO8V9zWLgRgYoM3RQ1++XQR",
      "include_colab_link": true
    },
    "kernelspec": {
      "name": "python3",
      "display_name": "Python 3"
    },
    "language_info": {
      "name": "python"
    }
  },
  "cells": [
    {
      "cell_type": "markdown",
      "metadata": {
        "id": "view-in-github",
        "colab_type": "text"
      },
      "source": [
        "<a href=\"https://colab.research.google.com/github/bonasoobin/Python-for-Data-Analysis/blob/main/chap06.ipynb\" target=\"_parent\"><img src=\"https://colab.research.google.com/assets/colab-badge.svg\" alt=\"Open In Colab\"/></a>"
      ]
    },
    {
      "cell_type": "markdown",
      "source": [
        "# 챕터6 데이터 로딩과 저장, 파일 형식"
      ],
      "metadata": {
        "id": "MyUNVHjcJgTG"
      }
    },
    {
      "cell_type": "code",
      "execution_count": null,
      "metadata": {
        "id": "0Qi6813oNUgd"
      },
      "outputs": [],
      "source": [
        "#s75ㅋㅊㅊㅋ"
      ]
    },
    {
      "cell_type": "code",
      "source": [],
      "metadata": {
        "id": "fHD6dh5SkYtM"
      },
      "execution_count": null,
      "outputs": []
    },
    {
      "cell_type": "code",
      "source": [],
      "metadata": {
        "id": "9eTepk_UoGw6"
      },
      "execution_count": null,
      "outputs": []
    }
  ]
}